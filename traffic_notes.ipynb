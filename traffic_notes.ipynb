{
 "cells": [
  {
   "cell_type": "code",
   "execution_count": 147,
   "metadata": {
    "collapsed": true
   },
   "outputs": [],
   "source": [
    "from simulation import Simulation\n",
    "from car import Car\n",
    "from simulation import n_simulations\n",
    "import numpy as np"
   ]
  },
  {
   "cell_type": "code",
   "execution_count": 148,
   "metadata": {
    "collapsed": true
   },
   "outputs": [],
   "source": [
    "n = Simulation()"
   ]
  },
  {
   "cell_type": "code",
   "execution_count": 149,
   "metadata": {
    "collapsed": true
   },
   "outputs": [],
   "source": [
    "results = n.run()"
   ]
  },
  {
   "cell_type": "code",
   "execution_count": 150,
   "metadata": {
    "collapsed": false
   },
   "outputs": [
    {
     "data": {
      "text/plain": [
       "array([[[  5,  39,  73, ..., 926, 960, 995],\n",
       "        [  5,  39,  73, ..., 926, 960, 995],\n",
       "        [  7,  41,  75, ..., 928, 962, 997],\n",
       "        ..., \n",
       "        [123, 147, 183, ...,  56,  96, 113],\n",
       "        [133, 163, 197, ...,  90, 100, 123],\n",
       "        [145, 181, 213, ...,  94, 106, 135]],\n",
       "\n",
       "       [[  0,   0,   0, ...,   0,   0,   0],\n",
       "        [  2,   2,   2, ...,   2,   2,   2],\n",
       "        [  4,   4,   4, ...,   4,   4,   4],\n",
       "        ..., \n",
       "        [ 10,  16,  14, ...,  34,   4,  10],\n",
       "        [ 12,  18,  16, ...,   4,   6,  12],\n",
       "        [ 10,  20,  18, ...,   6,   8,  10]]])"
      ]
     },
     "execution_count": 150,
     "metadata": {},
     "output_type": "execute_result"
    }
   ],
   "source": [
    "results"
   ]
  },
  {
   "cell_type": "code",
   "execution_count": 151,
   "metadata": {
    "collapsed": false
   },
   "outputs": [
    {
     "data": {
      "text/plain": [
       "array([[  5,  39,  73, ..., 926, 960, 995],\n",
       "       [  5,  39,  73, ..., 926, 960, 995],\n",
       "       [  7,  41,  75, ..., 928, 962, 997],\n",
       "       ..., \n",
       "       [123, 147, 183, ...,  56,  96, 113],\n",
       "       [133, 163, 197, ...,  90, 100, 123],\n",
       "       [145, 181, 213, ...,  94, 106, 135]])"
      ]
     },
     "execution_count": 151,
     "metadata": {},
     "output_type": "execute_result"
    }
   ],
   "source": [
    "results[0]"
   ]
  },
  {
   "cell_type": "code",
   "execution_count": 152,
   "metadata": {
    "collapsed": false
   },
   "outputs": [
    {
     "data": {
      "text/plain": [
       "array([  7,  41,  75, 109, 141, 175, 211, 243, 280, 314, 346, 382, 416,\n",
       "       450, 484, 519, 553, 587, 621, 653, 687, 723, 758, 790, 826, 860,\n",
       "       894, 928, 962, 997])"
      ]
     },
     "execution_count": 152,
     "metadata": {},
     "output_type": "execute_result"
    }
   ],
   "source": [
    "results[0][1]\n",
    "results[0][2]"
   ]
  },
  {
   "cell_type": "code",
   "execution_count": 153,
   "metadata": {
    "collapsed": false
   },
   "outputs": [
    {
     "data": {
      "text/plain": [
       "array([  5,  39,  73, 107, 141, 175, 209, 243, 278, 312, 346, 380, 414,\n",
       "       448, 482, 517, 551, 585, 619, 653, 687, 721, 756, 790, 824, 858,\n",
       "       892, 926, 960, 995])"
      ]
     },
     "execution_count": 153,
     "metadata": {},
     "output_type": "execute_result"
    }
   ],
   "source": [
    "results[0][1]"
   ]
  },
  {
   "cell_type": "code",
   "execution_count": 154,
   "metadata": {
    "collapsed": false
   },
   "outputs": [
    {
     "data": {
      "text/plain": [
       "array([  5,  39,  73, 107, 141, 175, 209, 243, 278, 312, 346, 380, 414,\n",
       "       448, 482, 517, 551, 585, 619, 653, 687, 721, 756, 790, 824, 858,\n",
       "       892, 926, 960, 995])"
      ]
     },
     "execution_count": 154,
     "metadata": {},
     "output_type": "execute_result"
    }
   ],
   "source": [
    "results[0][0]"
   ]
  },
  {
   "cell_type": "code",
   "execution_count": 155,
   "metadata": {
    "collapsed": false
   },
   "outputs": [
    {
     "data": {
      "text/plain": [
       "array([  5,  39,  73, 107, 141, 175, 209, 243, 278, 312, 346, 380, 414,\n",
       "       448, 482, 517, 551, 585, 619, 653, 687, 721, 756, 790, 824, 858,\n",
       "       892, 926, 960, 995])"
      ]
     },
     "execution_count": 155,
     "metadata": {},
     "output_type": "execute_result"
    }
   ],
   "source": [
    "results[0][1]"
   ]
  },
  {
   "cell_type": "code",
   "execution_count": 156,
   "metadata": {
    "collapsed": false
   },
   "outputs": [
    {
     "data": {
      "text/plain": [
       "array([  7,  41,  75, 109, 141, 175, 211, 243, 280, 314, 346, 382, 416,\n",
       "       450, 484, 519, 553, 587, 621, 653, 687, 723, 758, 790, 826, 860,\n",
       "       894, 928, 962, 997])"
      ]
     },
     "execution_count": 156,
     "metadata": {},
     "output_type": "execute_result"
    }
   ],
   "source": [
    "results[0][2]"
   ]
  },
  {
   "cell_type": "code",
   "execution_count": 157,
   "metadata": {
    "collapsed": false
   },
   "outputs": [
    {
     "data": {
      "text/plain": [
       "array([4, 4, 4, 4, 2, 2, 4, 2, 4, 4, 2, 4, 4, 4, 4, 4, 4, 4, 4, 2, 2, 4, 4,\n",
       "       2, 0, 4, 4, 4, 4, 4])"
      ]
     },
     "execution_count": 157,
     "metadata": {},
     "output_type": "execute_result"
    }
   ],
   "source": [
    "results[1][2]"
   ]
  },
  {
   "cell_type": "code",
   "execution_count": 158,
   "metadata": {
    "collapsed": false
   },
   "outputs": [
    {
     "data": {
      "text/plain": [
       "array([ 11,  45,  79, 113, 143, 177, 215, 245, 284, 318, 348, 386, 420,\n",
       "       454, 488, 523, 557, 591, 625, 655, 689, 727, 762, 792, 826, 864,\n",
       "       898, 932, 966,   1])"
      ]
     },
     "execution_count": 158,
     "metadata": {},
     "output_type": "execute_result"
    }
   ],
   "source": [
    "results[0][3]"
   ]
  },
  {
   "cell_type": "code",
   "execution_count": 159,
   "metadata": {
    "collapsed": false
   },
   "outputs": [
    {
     "data": {
      "text/plain": [
       "array([6, 2, 6, 6, 4, 4, 6, 4, 6, 6, 4, 6, 6, 6, 6, 6, 6, 6, 6, 4, 4, 6, 6,\n",
       "       4, 2, 2, 2, 6, 6, 2])"
      ]
     },
     "execution_count": 159,
     "metadata": {},
     "output_type": "execute_result"
    }
   ],
   "source": [
    "results[1][3]"
   ]
  },
  {
   "cell_type": "code",
   "execution_count": 160,
   "metadata": {
    "collapsed": false
   },
   "outputs": [
    {
     "data": {
      "text/plain": [
       "array([24, 30, 32, 30, 24, 26, 28, 30, 32, 34, 30, 32, 34, 34, 34,  4,  6,\n",
       "        8, 10, 12, 14,  8,  6,  8, 10,  8, 10,  8, 18, 24])"
      ]
     },
     "execution_count": 160,
     "metadata": {},
     "output_type": "execute_result"
    }
   ],
   "source": [
    "results[1][90]"
   ]
  },
  {
   "cell_type": "code",
   "execution_count": 161,
   "metadata": {
    "collapsed": false
   },
   "outputs": [
    {
     "data": {
      "text/plain": [
       "array([34, 22, 24, 26, 28, 32,  6,  4,  6,  8, 10, 12, 10, 12, 18, 16, 14,\n",
       "        4,  6,  8,  6,  8, 10, 12, 10, 16, 18, 20, 32, 34])"
      ]
     },
     "execution_count": 161,
     "metadata": {},
     "output_type": "execute_result"
    }
   ],
   "source": [
    "results[1][100]"
   ]
  },
  {
   "cell_type": "code",
   "execution_count": 162,
   "metadata": {
    "collapsed": false
   },
   "outputs": [
    {
     "data": {
      "text/plain": [
       "array([10, 12,  6,  8, 10,  8, 18, 20,  6,  8, 10, 12, 10, 12, 10, 12, 14,\n",
       "       12, 14, 12, 18, 24, 26, 28, 30, 32, 32, 34, 12, 10])"
      ]
     },
     "execution_count": 162,
     "metadata": {},
     "output_type": "execute_result"
    }
   ],
   "source": [
    "results[1][110]"
   ]
  },
  {
   "cell_type": "code",
   "execution_count": 163,
   "metadata": {
    "collapsed": false
   },
   "outputs": [
    {
     "data": {
      "text/plain": [
       "array([10, 20, 18, 20, 14, 16, 18, 16, 18,  8, 10, 12, 14, 16, 22, 24, 22,\n",
       "       20, 18, 24, 30, 34, 34, 32, 34, 34,  4,  6,  8, 10])"
      ]
     },
     "execution_count": 163,
     "metadata": {},
     "output_type": "execute_result"
    }
   ],
   "source": [
    "results[1][120]"
   ]
  },
  {
   "cell_type": "code",
   "execution_count": 164,
   "metadata": {
    "collapsed": false
   },
   "outputs": [
    {
     "data": {
      "text/plain": [
       "array([20,  6,  8, 10,  8, 10,  8, 10, 16, 18, 20, 22, 16, 18, 16, 22, 32,\n",
       "       30, 34, 34, 34, 34, 34, 12, 14, 12, 14, 12, 14, 20])"
      ]
     },
     "execution_count": 164,
     "metadata": {},
     "output_type": "execute_result"
    }
   ],
   "source": [
    "results[1][70]"
   ]
  },
  {
   "cell_type": "code",
   "execution_count": 165,
   "metadata": {
    "collapsed": false
   },
   "outputs": [
    {
     "data": {
      "text/plain": [
       "array([ 8, 10, 12, 18, 20, 22, 24, 26, 28, 18, 24, 26, 28, 30, 32, 34, 34,\n",
       "       16, 18, 16, 14, 24, 10,  4,  6,  8, 10,  8, 10, 12])"
      ]
     },
     "execution_count": 165,
     "metadata": {},
     "output_type": "execute_result"
    }
   ],
   "source": [
    "results[1][80]"
   ]
  },
  {
   "cell_type": "code",
   "execution_count": 166,
   "metadata": {
    "collapsed": false
   },
   "outputs": [
    {
     "data": {
      "text/plain": [
       "array([24, 30, 32, 30, 24, 26, 28, 30, 32, 34, 30, 32, 34, 34, 34,  4,  6,\n",
       "        8, 10, 12, 14,  8,  6,  8, 10,  8, 10,  8, 18, 24])"
      ]
     },
     "execution_count": 166,
     "metadata": {},
     "output_type": "execute_result"
    }
   ],
   "source": [
    "results[1][90]"
   ]
  },
  {
   "cell_type": "code",
   "execution_count": 167,
   "metadata": {
    "collapsed": false
   },
   "outputs": [
    {
     "data": {
      "text/plain": [
       "array([34, 22, 24, 26, 28, 32,  6,  4,  6,  8, 10, 12, 10, 12, 18, 16, 14,\n",
       "        4,  6,  8,  6,  8, 10, 12, 10, 16, 18, 20, 32, 34])"
      ]
     },
     "execution_count": 167,
     "metadata": {},
     "output_type": "execute_result"
    }
   ],
   "source": [
    "results[1][100]"
   ]
  },
  {
   "cell_type": "code",
   "execution_count": 168,
   "metadata": {
    "collapsed": true
   },
   "outputs": [],
   "source": [
    "results2 = Simulation()"
   ]
  },
  {
   "cell_type": "code",
   "execution_count": 169,
   "metadata": {
    "collapsed": false
   },
   "outputs": [],
   "source": [
    "result2 = results2.run()"
   ]
  },
  {
   "cell_type": "code",
   "execution_count": 170,
   "metadata": {
    "collapsed": false
   },
   "outputs": [
    {
     "data": {
      "text/plain": [
       "array([34, 32, 32, 34, 34, 32, 34, 34, 28, 34, 34, 34, 32, 34, 34, 34, 34,\n",
       "       34, 34, 34, 34, 34, 34, 34, 34, 34, 32, 34, 34, 34])"
      ]
     },
     "execution_count": 170,
     "metadata": {},
     "output_type": "execute_result"
    }
   ],
   "source": [
    "result2[1][90]"
   ]
  },
  {
   "cell_type": "code",
   "execution_count": 171,
   "metadata": {
    "collapsed": false
   },
   "outputs": [
    {
     "data": {
      "text/plain": [
       "array([34, 34, 34, 34, 34, 34, 34, 34, 34, 34, 34, 34, 34, 34, 34, 32, 34,\n",
       "       34, 34, 34, 34, 32, 34, 34, 34, 34, 34, 34, 34, 34])"
      ]
     },
     "execution_count": 171,
     "metadata": {},
     "output_type": "execute_result"
    }
   ],
   "source": [
    "result2[1][100]"
   ]
  },
  {
   "cell_type": "code",
   "execution_count": 172,
   "metadata": {
    "collapsed": false
   },
   "outputs": [
    {
     "data": {
      "text/plain": [
       "array([34, 32, 34, 32, 34, 34, 34, 34, 34, 30, 34, 34, 34, 34, 34, 34, 32,\n",
       "       34, 32, 34, 34, 34, 34, 34, 34, 30, 34, 34, 32, 34])"
      ]
     },
     "execution_count": 172,
     "metadata": {},
     "output_type": "execute_result"
    }
   ],
   "source": [
    "result2[1][110]"
   ]
  },
  {
   "cell_type": "code",
   "execution_count": 173,
   "metadata": {
    "collapsed": false
   },
   "outputs": [
    {
     "data": {
      "text/plain": [
       "array([32, 32, 34, 34, 34, 34, 34, 34, 16, 18, 24, 26, 28, 30, 32, 34, 32,\n",
       "       34, 34, 32, 34, 34, 34, 34, 34, 34, 34, 34, 34, 32])"
      ]
     },
     "execution_count": 173,
     "metadata": {},
     "output_type": "execute_result"
    }
   ],
   "source": [
    "result2[1][80]"
   ]
  },
  {
   "cell_type": "code",
   "execution_count": 174,
   "metadata": {
    "collapsed": false
   },
   "outputs": [
    {
     "data": {
      "text/plain": [
       "array([[34, 34, 24, ..., 28, 34, 34],\n",
       "       [34, 34, 26, ..., 30, 34, 34],\n",
       "       [34, 26, 28, ..., 32, 34, 34],\n",
       "       ..., \n",
       "       [34, 34, 34, ..., 34, 34, 34],\n",
       "       [34, 34, 34, ..., 34, 32, 34],\n",
       "       [34, 34, 34, ..., 34, 34, 34]])"
      ]
     },
     "execution_count": 174,
     "metadata": {},
     "output_type": "execute_result"
    }
   ],
   "source": [
    "result2[1][61:121, 0:30]"
   ]
  },
  {
   "cell_type": "code",
   "execution_count": 175,
   "metadata": {
    "collapsed": true
   },
   "outputs": [],
   "source": [
    "plot_speeds = result2[1][61:121, 0:30]"
   ]
  },
  {
   "cell_type": "code",
   "execution_count": 176,
   "metadata": {
    "collapsed": false
   },
   "outputs": [
    {
     "data": {
      "text/plain": [
       "(array([   6,   27,   42,   42,   42,   50,   56,   74,  215, 1246]),\n",
       " array([ 16. ,  17.8,  19.6,  21.4,  23.2,  25. ,  26.8,  28.6,  30.4,\n",
       "         32.2,  34. ]))"
      ]
     },
     "execution_count": 176,
     "metadata": {},
     "output_type": "execute_result"
    }
   ],
   "source": [
    "np.histogram(plot_speeds, bins=10)"
   ]
  },
  {
   "cell_type": "code",
   "execution_count": 177,
   "metadata": {
    "collapsed": false
   },
   "outputs": [
    {
     "data": {
      "text/plain": [
       "(array([ 52,  57, 101, 370, 271, 203, 285, 101, 100, 260]),\n",
       " array([  8. ,  10.6,  13.2,  15.8,  18.4,  21. ,  23.6,  26.2,  28.8,\n",
       "         31.4,  34. ]))"
      ]
     },
     "execution_count": 177,
     "metadata": {},
     "output_type": "execute_result"
    }
   ],
   "source": [
    "results3 = Simulation()\n",
    "result3 = results3.run()\n",
    "plot_speeds3 = result3[1][61:121, 0:30]\n",
    "np.histogram(plot_speeds3, bins=10)"
   ]
  },
  {
   "cell_type": "code",
   "execution_count": 178,
   "metadata": {
    "collapsed": true
   },
   "outputs": [],
   "source": [
    "import matplotlib.pyplot as plt"
   ]
  },
  {
   "cell_type": "code",
   "execution_count": 179,
   "metadata": {
    "collapsed": true
   },
   "outputs": [],
   "source": [
    "%matplotlib inline"
   ]
  },
  {
   "cell_type": "code",
   "execution_count": 180,
   "metadata": {
    "collapsed": false
   },
   "outputs": [],
   "source": [
    "location = result2[0]"
   ]
  },
  {
   "cell_type": "code",
   "execution_count": 181,
   "metadata": {
    "collapsed": false
   },
   "outputs": [
    {
     "data": {
      "text/plain": [
       "array([[  5,  39,  73, ..., 926, 960, 995],\n",
       "       [  5,  39,  73, ..., 926, 960, 995],\n",
       "       [  7,  41,  75, ..., 928, 962, 997],\n",
       "       ..., \n",
       "       [913, 959,  11, ..., 808, 866, 907],\n",
       "       [947, 993,  45, ..., 842, 900, 941],\n",
       "       [981,  27,  79, ..., 876, 932, 975]])"
      ]
     },
     "execution_count": 181,
     "metadata": {},
     "output_type": "execute_result"
    }
   ],
   "source": [
    "location"
   ]
  },
  {
   "cell_type": "code",
   "execution_count": 182,
   "metadata": {
    "collapsed": false
   },
   "outputs": [
    {
     "data": {
      "text/plain": [
       "(121, 30)"
      ]
     },
     "execution_count": 182,
     "metadata": {},
     "output_type": "execute_result"
    }
   ],
   "source": [
    "location.shape"
   ]
  },
  {
   "cell_type": "code",
   "execution_count": null,
   "metadata": {
    "collapsed": false
   },
   "outputs": [],
   "source": []
  },
  {
   "cell_type": "code",
   "execution_count": 183,
   "metadata": {
    "collapsed": false
   },
   "outputs": [
    {
     "data": {
      "text/plain": [
       "array([ 57,  73,  91, 109, 135, 159, 181, 207, 230, 268, 320, 380, 422,\n",
       "       572, 674, 709, 747, 785, 585, 623, 727, 747, 776, 804, 822, 844,\n",
       "       900, 964,  26,  49])"
      ]
     },
     "execution_count": 183,
     "metadata": {},
     "output_type": "execute_result"
    }
   ],
   "source": [
    "line1"
   ]
  },
  {
   "cell_type": "code",
   "execution_count": 189,
   "metadata": {
    "collapsed": false
   },
   "outputs": [
    {
     "data": {
      "text/plain": [
       "<matplotlib.text.Text at 0x10bff0940>"
      ]
     },
     "execution_count": 189,
     "metadata": {},
     "output_type": "execute_result"
    },
    {
     "data": {
      "image/png": "[encoded data removed]",
      "text/plain": [
       "<matplotlib.figure.Figure at 0x10c0ea7f0>"
      ]
     },
     "metadata": {},
     "output_type": "display_data"
    }
   ],
   "source": [
    "y = [[i] * 30 for i in range(121)]\n",
    "plt.subplots_adjust(left=18, right=20, top=20, bottom=18)\n",
    "plt.scatter(location, y, marker=\"|\", c = [\"y\",\"g\",\"b\",\"k\",\"r\"])\n",
    "#plt.scatter(location_array, times)\n",
    "plt.xlabel(\"location\")\n",
    "plt.ylabel(\"time\")"
   ]
  },
  {
   "cell_type": "code",
   "execution_count": null,
   "metadata": {
    "collapsed": true
   },
   "outputs": [],
   "source": []
  },
  {
   "cell_type": "code",
   "execution_count": 185,
   "metadata": {
    "collapsed": false
   },
   "outputs": [
    {
     "data": {
      "text/plain": [
       "<matplotlib.text.Text at 0x10c138c18>"
      ]
     },
     "execution_count": 185,
     "metadata": {},
     "output_type": "execute_result"
    },
    {
     "data": {
      "image/png": "[encoded data removed]",
      "text/plain": [
       "<matplotlib.figure.Figure at 0x10bf75438>"
      ]
     },
     "metadata": {},
     "output_type": "display_data"
    }
   ],
   "source": [
    "#[(location[k] , i for i in range 30) for k in range 30]\n",
    "location_array = line1\n",
    "#plt.scatter[(location[k] , [i for i in range(30)]) for k in range 30]\n",
    "plt.scatter(location_array, times)\n",
    "plt.xlabel(\"location\")\n",
    "plt.ylabel(\"time\")"
   ]
  },
  {
   "cell_type": "code",
   "execution_count": 186,
   "metadata": {
    "collapsed": false
   },
   "outputs": [],
   "source": [
    "positions = [[5, 35,65, 95, 120],\n",
    "            [34, 65, 95, 120, 150],\n",
    "            [65, 95, 120, 150, 180],\n",
    "            [85, 110, 130, 180, 200]]"
   ]
  },
  {
   "cell_type": "code",
   "execution_count": 187,
   "metadata": {
    "collapsed": false
   },
   "outputs": [
    {
     "data": {
      "text/plain": [
       "<matplotlib.text.Text at 0x10cfb7668>"
      ]
     },
     "execution_count": 187,
     "metadata": {},
     "output_type": "execute_result"
    },
    {
     "data": {
      "image/png": "[encoded data removed]",
      "text/plain": [
       "<matplotlib.figure.Figure at 0x10c69d780>"
      ]
     },
     "metadata": {},
     "output_type": "display_data"
    }
   ],
   "source": [
    "plt.scatter(positions, [[i] * 5 for i in range(4)], c = [\"y\",\"g\",\"b\",\"k\",\"r\"])\n",
    "#plt.scatter(location_array, times)\n",
    "plt.xlabel(\"location\")\n",
    "plt.ylabel(\"time\")"
   ]
  },
  {
   "cell_type": "code",
   "execution_count": null,
   "metadata": {
    "collapsed": true
   },
   "outputs": [],
   "source": []
  },
  {
   "cell_type": "code",
   "execution_count": null,
   "metadata": {
    "collapsed": true
   },
   "outputs": [],
   "source": []
  }
 ],
 "metadata": {
  "kernelspec": {
   "display_name": "Python 3",
   "language": "python",
   "name": "python3"
  },
  "language_info": {
   "codemirror_mode": {
    "name": "ipython",
    "version": 3
   },
   "file_extension": ".py",
   "mimetype": "text/x-python",
   "name": "python",
   "nbconvert_exporter": "python",
   "pygments_lexer": "ipython3",
   "version": "3.4.3"
  }
 },
 "nbformat": 4,
 "nbformat_minor": 0
}
