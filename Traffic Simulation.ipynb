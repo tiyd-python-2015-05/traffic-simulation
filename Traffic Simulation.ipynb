{
 "cells": [
  {
   "cell_type": "code",
   "execution_count": 1,
   "metadata": {
    "collapsed": true
   },
   "outputs": [],
   "source": [
    "from simulation import Simulation\n",
    "from car import Car\n",
    "from simulation import n_simulations\n",
    "import numpy as np\n",
    "import matplotlib.pyplot as plt"
   ]
  },
  {
   "cell_type": "code",
   "execution_count": 2,
   "metadata": {
    "collapsed": true
   },
   "outputs": [],
   "source": [
    "n = Simulation()"
   ]
  },
  {
   "cell_type": "code",
   "execution_count": 3,
   "metadata": {
    "collapsed": false
   },
   "outputs": [],
   "source": [
    "simulation_results = n.run()"
   ]
  },
  {
   "cell_type": "code",
   "execution_count": 4,
   "metadata": {
    "collapsed": false
   },
   "outputs": [
    {
     "data": {
      "text/plain": [
       "array([[[  5,  39,  73, ..., 926, 960, 995],\n",
       "        [  5,  39,  73, ..., 926, 960, 995],\n",
       "        [  7,  39,  75, ..., 928, 962, 997],\n",
       "        ..., \n",
       "        [302, 430, 495, ..., 149, 210, 249],\n",
       "        [336, 464, 529, ..., 183, 244, 283],\n",
       "        [370, 498, 563, ..., 217, 278, 317]],\n",
       "\n",
       "       [[  0,   0,   0, ...,   0,   0,   0],\n",
       "        [  2,   0,   2, ...,   2,   2,   2],\n",
       "        [  4,   0,   4, ...,   4,   4,   4],\n",
       "        ..., \n",
       "        [ 34,  34,  34, ...,  34,  34,  34],\n",
       "        [ 34,  34,  34, ...,  34,  34,  34],\n",
       "        [ 34,  34,  32, ...,  32,  34,  34]]])"
      ]
     },
     "execution_count": 4,
     "metadata": {},
     "output_type": "execute_result"
    }
   ],
   "source": [
    "simulation_results"
   ]
  },
  {
   "cell_type": "code",
   "execution_count": 5,
   "metadata": {
    "collapsed": false
   },
   "outputs": [
    {
     "data": {
      "text/plain": [
       "array([  5,  39,  73, 107, 141, 175, 209, 243, 278, 312, 346, 380, 414,\n",
       "       448, 482, 517, 551, 585, 619, 653, 687, 721, 756, 790, 824, 858,\n",
       "       892, 926, 960, 995])"
      ]
     },
     "execution_count": 5,
     "metadata": {},
     "output_type": "execute_result"
    }
   ],
   "source": [
    "results[0][1]"
   ]
  },
  {
   "cell_type": "code",
   "execution_count": 6,
   "metadata": {
    "collapsed": false
   },
   "outputs": [
    {
     "data": {
      "text/plain": [
       "array([  5,  39,  73, 107, 141, 175, 209, 243, 278, 312, 346, 380, 414,\n",
       "       448, 482, 517, 551, 585, 619, 653, 687, 721, 756, 790, 824, 858,\n",
       "       892, 926, 960, 995])"
      ]
     },
     "execution_count": 6,
     "metadata": {},
     "output_type": "execute_result"
    }
   ],
   "source": [
    "results[0][0]"
   ]
  },
  {
   "cell_type": "code",
   "execution_count": 7,
   "metadata": {
    "collapsed": false
   },
   "outputs": [
    {
     "data": {
      "text/plain": [
       "array([  5,  39,  73, 107, 141, 175, 209, 243, 278, 312, 346, 380, 414,\n",
       "       448, 482, 517, 551, 585, 619, 653, 687, 721, 756, 790, 824, 858,\n",
       "       892, 926, 960, 995])"
      ]
     },
     "execution_count": 7,
     "metadata": {},
     "output_type": "execute_result"
    }
   ],
   "source": [
    "results[0][1]"
   ]
  },
  {
   "cell_type": "code",
   "execution_count": 8,
   "metadata": {
    "collapsed": false
   },
   "outputs": [
    {
     "data": {
      "text/plain": [
       "array([  7,  41,  75, 109, 141, 177, 211, 245, 280, 314, 348, 382, 416,\n",
       "       450, 484, 519, 553, 587, 621, 655, 687, 723, 758, 792, 826, 860,\n",
       "       894, 928, 962, 997])"
      ]
     },
     "execution_count": 8,
     "metadata": {},
     "output_type": "execute_result"
    }
   ],
   "source": [
    "results[0][2]"
   ]
  },
  {
   "cell_type": "code",
   "execution_count": 9,
   "metadata": {
    "collapsed": false
   },
   "outputs": [
    {
     "data": {
      "text/plain": [
       "array([4, 4, 4, 4, 2, 4, 4, 4, 4, 4, 4, 4, 4, 4, 4, 4, 4, 4, 4, 4, 2, 4, 4,\n",
       "       4, 4, 0, 4, 4, 4, 4])"
      ]
     },
     "execution_count": 9,
     "metadata": {},
     "output_type": "execute_result"
    }
   ],
   "source": [
    "results[1][2]"
   ]
  },
  {
   "cell_type": "code",
   "execution_count": 10,
   "metadata": {
    "collapsed": false
   },
   "outputs": [
    {
     "data": {
      "text/plain": [
       "array([ 11,  45,  79, 113, 143, 181, 215, 249, 284, 318, 352, 386, 420,\n",
       "       454, 488, 523, 557, 591, 625, 659, 689, 727, 762, 796, 830, 860,\n",
       "       898, 932, 966,   1])"
      ]
     },
     "execution_count": 10,
     "metadata": {},
     "output_type": "execute_result"
    }
   ],
   "source": [
    "results[0][3]"
   ]
  },
  {
   "cell_type": "code",
   "execution_count": 11,
   "metadata": {
    "collapsed": false
   },
   "outputs": [
    {
     "data": {
      "text/plain": [
       "array([6, 6, 6, 2, 4, 6, 6, 6, 6, 6, 6, 6, 6, 6, 6, 6, 6, 6, 6, 6, 4, 2, 6,\n",
       "       6, 6, 2, 2, 6, 6, 6])"
      ]
     },
     "execution_count": 11,
     "metadata": {},
     "output_type": "execute_result"
    }
   ],
   "source": [
    "results[1][3]"
   ]
  },
  {
   "cell_type": "code",
   "execution_count": 12,
   "metadata": {
    "collapsed": false
   },
   "outputs": [
    {
     "data": {
      "text/plain": [
       "array([8, 8, 8, 4, 6, 8, 8, 8, 8, 8, 8, 8, 8, 4, 8, 4, 8, 8, 4, 8, 6, 4, 8,\n",
       "       8, 8, 4, 4, 8, 8, 8])"
      ]
     },
     "execution_count": 12,
     "metadata": {},
     "output_type": "execute_result"
    }
   ],
   "source": [
    "results[1][4]"
   ]
  },
  {
   "cell_type": "code",
   "execution_count": 13,
   "metadata": {
    "collapsed": false
   },
   "outputs": [
    {
     "data": {
      "text/plain": [
       "array([10, 10, 10,  6,  8, 10, 10, 10, 10, 10, 10, 10, 10,  6, 10,  6, 10,\n",
       "       10,  6,  6,  8,  6, 10,  6, 10,  6,  6, 10, 10, 10])"
      ]
     },
     "execution_count": 13,
     "metadata": {},
     "output_type": "execute_result"
    }
   ],
   "source": [
    "results[1][5]"
   ]
  },
  {
   "cell_type": "code",
   "execution_count": 14,
   "metadata": {
    "collapsed": false
   },
   "outputs": [
    {
     "data": {
      "text/plain": [
       "array([12, 12, 12,  8, 10, 12, 12, 12, 12, 12, 12, 12,  8,  8, 12,  8,  8,\n",
       "       12,  4,  8, 10,  8, 12,  8, 12,  8,  8, 12, 12, 12])"
      ]
     },
     "execution_count": 14,
     "metadata": {},
     "output_type": "execute_result"
    }
   ],
   "source": [
    "results[1][6]"
   ]
  },
  {
   "cell_type": "code",
   "execution_count": 15,
   "metadata": {
    "collapsed": false
   },
   "outputs": [
    {
     "data": {
      "text/plain": [
       "array([14, 14, 14, 10, 12, 10, 14, 14, 14, 14, 14, 14,  6, 10, 14, 10, 10,\n",
       "       14,  6, 10,  8, 10, 14,  6,  8, 10, 10, 10, 14, 14])"
      ]
     },
     "execution_count": 15,
     "metadata": {},
     "output_type": "execute_result"
    }
   ],
   "source": [
    "results[1][7]"
   ]
  },
  {
   "cell_type": "code",
   "execution_count": 16,
   "metadata": {
    "collapsed": false
   },
   "outputs": [
    {
     "data": {
      "text/plain": [
       "array([16, 16, 10, 12, 14,  8, 16, 16, 16, 16, 16, 16,  8, 12, 16, 12, 12,\n",
       "        6,  4,  8, 10, 12,  6,  8, 10, 12, 12, 12, 16, 16])"
      ]
     },
     "execution_count": 16,
     "metadata": {},
     "output_type": "execute_result"
    }
   ],
   "source": [
    "results[1][8]"
   ]
  },
  {
   "cell_type": "code",
   "execution_count": 17,
   "metadata": {
    "collapsed": false
   },
   "outputs": [
    {
     "data": {
      "text/plain": [
       "array([18, 18, 12, 14, 12, 10, 18, 18, 18, 18, 18,  8, 10, 14, 12, 14, 14,\n",
       "        4,  6, 10, 12, 14,  8, 10,  8, 14, 14, 14, 18, 18])"
      ]
     },
     "execution_count": 17,
     "metadata": {},
     "output_type": "execute_result"
    }
   ],
   "source": [
    "results[1][9]"
   ]
  },
  {
   "cell_type": "code",
   "execution_count": 18,
   "metadata": {
    "collapsed": false
   },
   "outputs": [
    {
     "data": {
      "text/plain": [
       "array([20, 12, 14, 16, 14, 12, 20, 20, 20, 20, 20, 10, 12, 16, 14, 16, 16,\n",
       "        6,  8, 12, 14, 16, 10, 12,  6, 12, 16, 16, 20, 20])"
      ]
     },
     "execution_count": 18,
     "metadata": {},
     "output_type": "execute_result"
    }
   ],
   "source": [
    "results[1][10]"
   ]
  },
  {
   "cell_type": "code",
   "execution_count": 19,
   "metadata": {
    "collapsed": false
   },
   "outputs": [
    {
     "data": {
      "text/plain": [
       "array([22, 24, 26, 28, 30, 28, 30, 32, 34, 34, 34, 32, 30, 14,  8, 10,  8,\n",
       "       10, 16, 18, 20, 18, 20, 22, 28, 22, 20, 22, 28, 22])"
      ]
     },
     "execution_count": 19,
     "metadata": {},
     "output_type": "execute_result"
    }
   ],
   "source": [
    "results[1][100]"
   ]
  },
  {
   "cell_type": "code",
   "execution_count": 20,
   "metadata": {
    "collapsed": false
   },
   "outputs": [
    {
     "data": {
      "text/plain": [
       "array([ 8, 14, 12, 14, 16, 18, 16, 18, 16, 18, 16, 22, 20, 18, 16, 22, 24,\n",
       "       26, 28, 34, 34, 34, 34, 32, 14, 16, 14, 16, 10,  8])"
      ]
     },
     "execution_count": 20,
     "metadata": {},
     "output_type": "execute_result"
    }
   ],
   "source": [
    "results[1][120]"
   ]
  },
  {
   "cell_type": "code",
   "execution_count": 21,
   "metadata": {
    "collapsed": false
   },
   "outputs": [
    {
     "data": {
      "text/plain": [
       "array([421, 437, 455, 471, 489, 509, 531, 551, 580, 600, 626, 672, 702,\n",
       "       726, 748, 773, 799, 827, 857,  53,  95, 161, 198, 236, 274, 310,\n",
       "       350, 372, 394, 411])"
      ]
     },
     "execution_count": 21,
     "metadata": {},
     "output_type": "execute_result"
    }
   ],
   "source": [
    "results[0][120]"
   ]
  },
  {
   "cell_type": "code",
   "execution_count": 22,
   "metadata": {
    "collapsed": false
   },
   "outputs": [
    {
     "data": {
      "text/plain": [
       "array([20, 22, 24, 34, 34, 34, 34, 34, 34, 34, 10, 12, 10, 12, 14, 12, 10,\n",
       "        8, 10, 12, 22, 24, 14, 16, 18, 20, 22, 16, 18, 20])"
      ]
     },
     "execution_count": 22,
     "metadata": {},
     "output_type": "execute_result"
    }
   ],
   "source": [
    "results[1][60]"
   ]
  },
  {
   "cell_type": "code",
   "execution_count": 23,
   "metadata": {
    "collapsed": false
   },
   "outputs": [
    {
     "data": {
      "text/plain": [
       "array([32, 34, 34, 16, 18, 16, 18, 16, 14, 16, 10, 12, 18, 16, 22, 24, 26,\n",
       "       28, 18, 20, 22, 24, 26, 28, 22, 28, 30, 28, 30, 32])"
      ]
     },
     "execution_count": 23,
     "metadata": {},
     "output_type": "execute_result"
    }
   ],
   "source": [
    "results[1][70]"
   ]
  },
  {
   "cell_type": "code",
   "execution_count": 24,
   "metadata": {
    "collapsed": false
   },
   "outputs": [
    {
     "data": {
      "text/plain": [
       "array([10, 12, 14, 16, 14, 16, 14, 20, 22, 20, 26, 28, 18, 20, 22, 24, 26,\n",
       "       24, 26, 28, 22, 24, 22, 24, 34, 34, 34, 34, 34, 10])"
      ]
     },
     "execution_count": 24,
     "metadata": {},
     "output_type": "execute_result"
    }
   ],
   "source": [
    "results[1][80]"
   ]
  },
  {
   "cell_type": "code",
   "execution_count": 5,
   "metadata": {
    "collapsed": false
   },
   "outputs": [],
   "source": [
    "%matplotlib inline"
   ]
  },
  {
   "cell_type": "code",
   "execution_count": 6,
   "metadata": {
    "collapsed": true
   },
   "outputs": [],
   "source": [
    "location_array = simulation_results[0]"
   ]
  },
  {
   "cell_type": "code",
   "execution_count": 7,
   "metadata": {
    "collapsed": false
   },
   "outputs": [],
   "source": [
    "x = [location_array[n, :] for n in range(len(location_array))]"
   ]
  },
  {
   "cell_type": "code",
   "execution_count": 8,
   "metadata": {
    "collapsed": true
   },
   "outputs": [],
   "source": [
    "y1 = [[n for _ in range(len(location_array[n]))] for n in range(len(location_array))]"
   ]
  },
  {
   "cell_type": "code",
   "execution_count": 14,
   "metadata": {
    "collapsed": false
   },
   "outputs": [],
   "source": [
    "y2 = [[i]*30 for i in range(121)]"
   ]
  },
  {
   "cell_type": "code",
   "execution_count": 23,
   "metadata": {
    "collapsed": false
   },
   "outputs": [
    {
     "data": {
      "text/plain": [
       "<matplotlib.text.Text at 0x10d0b10b8>"
      ]
     },
     "execution_count": 23,
     "metadata": {},
     "output_type": "execute_result"
    },
    {
     "data": {
      "image/png": "[encoded data removed]",
      "text/plain": [
       "<matplotlib.figure.Figure at 0x10d094ac8>"
      ]
     },
     "metadata": {},
     "output_type": "display_data"
    }
   ],
   "source": [
    "# plt.scatter(location_array[1], [1 for _ in range(30)])\n",
    "# plt.scatter(location_array[4], [2 for _ in range(30)])\n",
    "# plt.scatter(location_array[25], [3 for _ in range(30)])\n",
    "# plt.scatter(location_array[30], [4 for _ in range(30)])\n",
    "# colors = colors = np.random.rand(30)\n",
    "plt.subplots_adjust(left=18, right=20, top=20, bottom=18)\n",
    "plt.scatter(location_array, y2, marker=\"|\", c=['g', 'r', 'y', 'b'])\n",
    "plt.xlabel(\"Length of Road (meters)\", fontsize=15)\n",
    "plt.ylabel(\"Time (seconds)\", fontsize=15)\n",
    "plt.title(\"Traffic Simulation - Normal Mode, 1 Simulation\", fontsize=15)"
   ]
  },
  {
   "cell_type": "code",
   "execution_count": null,
   "metadata": {
    "collapsed": true
   },
   "outputs": [],
   "source": []
  }
 ],
 "metadata": {
  "kernelspec": {
   "display_name": "Python 3",
   "language": "python",
   "name": "python3"
  },
  "language_info": {
   "codemirror_mode": {
    "name": "ipython",
    "version": 3
   },
   "file_extension": ".py",
   "mimetype": "text/x-python",
   "name": "python",
   "nbconvert_exporter": "python",
   "pygments_lexer": "ipython3",
   "version": "3.4.3"
  }
 },
 "nbformat": 4,
 "nbformat_minor": 0
}
